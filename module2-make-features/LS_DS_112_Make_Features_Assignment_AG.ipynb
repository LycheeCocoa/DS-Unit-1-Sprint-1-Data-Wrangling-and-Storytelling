{
 "cells": [
  {
   "cell_type": "markdown",
   "source": [
    "## Autograded Notebook (Canvas & CodeGrade)\n",
    "\n",
    "This notebook will be automatically graded. It is designed to test your answers and award points for the correct answers. Following the instructions for each Task carefully.\n",
    "\n",
    "### Instructions\n",
    "\n",
    "* **Download this notebook** as you would any other ipynb file\n",
    "* **Upload** to Google Colab or work locally (if you have that set-up)\n",
    "* **Delete `raise NotImplementedError()`**\n",
    "* Write your code in the `# YOUR CODE HERE` space\n",
    "* **Execute** the Test cells that contain `assert` statements - these help you check your work (others contain hidden tests that will be checked when you submit through Canvas)\n",
    "* **Save** your notebook when you are finished\n",
    "* **Download** as a `ipynb` file (if working in Colab)\n",
    "* **Upload** your complete notebook to Canvas (there will be additional instructions in Slack and/or Canvas)"
   ],
   "metadata": {}
  },
  {
   "cell_type": "markdown",
   "source": [
    "# Lambda School Data Science - Unit 1 Sprint 1 Module 2\n",
    "\n",
    "## Making Features\n",
    "\n",
    "### Module Learning Objectives\n",
    "\n",
    "- Understand the purpose of feature engineering\n",
    "- Work with strings in pandas\n",
    "- Work with dates and times in pandas\n",
    "- Modify or create columns of a dataframe using the `.apply()` function\n",
    "\n",
    "### Resources\n",
    "\n",
    "- Python Data Science Handbook\n",
    "  - [Chapter 3.10](https://jakevdp.github.io/PythonDataScienceHandbook/03.10-working-with-strings.html), Vectorized String Operations - eg. .strip(), .split(), .replace() and list comprehensions\n",
    "  - [Chapter 3.11](https://jakevdp.github.io/PythonDataScienceHandbook/03.11-working-with-time-series.html), Working with Time Series - lots more details about time using and not using Pandas\n",
    "- [Lambda Learning Method for DS - By Ryan Herr](https://docs.google.com/document/d/1ubOw9B3Hfip27hF2ZFnW3a3z9xAgrUDRReOEo-FHCVs/edit?usp=sharing)\n",
    "\n",
    "### Notebook points: 11"
   ],
   "metadata": {
    "id": "7fknoKxGz_jk"
   }
  },
  {
   "cell_type": "markdown",
   "source": [
    "### Introduction\n",
    "\n",
    "This project is going to focus on learning how to create new features from exisiting data. There are many ways to create features in your datasets; we'll only focus on a few here. Let's get started!"
   ],
   "metadata": {
    "id": "LZSXUzBm3yvk"
   }
  },
  {
   "cell_type": "markdown",
   "source": [
    "**Task 1** - Load the data set\n",
    "\n",
    "* Using the provided URL, load the Ames Housing Data into a DataFrame called `house`\n",
    "* View your DataFrame"
   ],
   "metadata": {
    "id": "HEiZ9dpkcRsX"
   }
  },
  {
   "cell_type": "code",
   "execution_count": 189,
   "source": [
    "# Task 1\r\n",
    "\r\n",
    "# Imports\r\n",
    "import pandas as pd\r\n",
    "\r\n",
    "# Dataset URL\r\n",
    "\r\n",
    "data_url = 'https://raw.githubusercontent.com/LambdaSchool/data-science-practice-datasets/main/unit_1/Housing/Ames%20Iowa%20Housing%20Data.csv'\r\n",
    "\r\n",
    "# YOUR CODE HERE\r\n",
    "house = pd.read_csv(data_url)\r\n",
    "\r\n",
    "# View your DataFrame\r\n",
    "house.head()\r\n",
    "house.info()"
   ],
   "outputs": [
    {
     "output_type": "stream",
     "name": "stdout",
     "text": [
      "<class 'pandas.core.frame.DataFrame'>\n",
      "RangeIndex: 1460 entries, 0 to 1459\n",
      "Data columns (total 81 columns):\n",
      " #   Column         Non-Null Count  Dtype  \n",
      "---  ------         --------------  -----  \n",
      " 0   Id             1460 non-null   int64  \n",
      " 1   MSSubClass     1460 non-null   int64  \n",
      " 2   MSZoning       1460 non-null   object \n",
      " 3   LotFrontage    1201 non-null   float64\n",
      " 4   LotArea        1460 non-null   int64  \n",
      " 5   Street         1460 non-null   object \n",
      " 6   Alley          91 non-null     object \n",
      " 7   LotShape       1460 non-null   object \n",
      " 8   LandContour    1460 non-null   object \n",
      " 9   Utilities      1460 non-null   object \n",
      " 10  LotConfig      1460 non-null   object \n",
      " 11  LandSlope      1460 non-null   object \n",
      " 12  Neighborhood   1460 non-null   object \n",
      " 13  Condition1     1460 non-null   object \n",
      " 14  Condition2     1460 non-null   object \n",
      " 15  BldgType       1460 non-null   object \n",
      " 16  HouseStyle     1460 non-null   object \n",
      " 17  OverallQual    1460 non-null   int64  \n",
      " 18  OverallCond    1460 non-null   int64  \n",
      " 19  YearBuilt      1460 non-null   int64  \n",
      " 20  YearRemodAdd   1460 non-null   int64  \n",
      " 21  RoofStyle      1460 non-null   object \n",
      " 22  RoofMatl       1460 non-null   object \n",
      " 23  Exterior1st    1460 non-null   object \n",
      " 24  Exterior2nd    1460 non-null   object \n",
      " 25  MasVnrType     1452 non-null   object \n",
      " 26  MasVnrArea     1452 non-null   float64\n",
      " 27  ExterQual      1460 non-null   object \n",
      " 28  ExterCond      1460 non-null   object \n",
      " 29  Foundation     1460 non-null   object \n",
      " 30  BsmtQual       1423 non-null   object \n",
      " 31  BsmtCond       1423 non-null   object \n",
      " 32  BsmtExposure   1422 non-null   object \n",
      " 33  BsmtFinType1   1423 non-null   object \n",
      " 34  BsmtFinSF1     1460 non-null   int64  \n",
      " 35  BsmtFinType2   1422 non-null   object \n",
      " 36  BsmtFinSF2     1460 non-null   int64  \n",
      " 37  BsmtUnfSF      1460 non-null   int64  \n",
      " 38  TotalBsmtSF    1460 non-null   int64  \n",
      " 39  Heating        1460 non-null   object \n",
      " 40  HeatingQC      1460 non-null   object \n",
      " 41  CentralAir     1460 non-null   object \n",
      " 42  Electrical     1459 non-null   object \n",
      " 43  1stFlrSF       1460 non-null   int64  \n",
      " 44  2ndFlrSF       1460 non-null   int64  \n",
      " 45  LowQualFinSF   1460 non-null   int64  \n",
      " 46  GrLivArea      1460 non-null   int64  \n",
      " 47  BsmtFullBath   1460 non-null   int64  \n",
      " 48  BsmtHalfBath   1460 non-null   int64  \n",
      " 49  FullBath       1460 non-null   int64  \n",
      " 50  HalfBath       1460 non-null   int64  \n",
      " 51  BedroomAbvGr   1460 non-null   int64  \n",
      " 52  KitchenAbvGr   1460 non-null   int64  \n",
      " 53  KitchenQual    1460 non-null   object \n",
      " 54  TotRmsAbvGrd   1460 non-null   int64  \n",
      " 55  Functional     1460 non-null   object \n",
      " 56  Fireplaces     1460 non-null   int64  \n",
      " 57  FireplaceQu    770 non-null    object \n",
      " 58  GarageType     1379 non-null   object \n",
      " 59  GarageYrBlt    1379 non-null   float64\n",
      " 60  GarageFinish   1379 non-null   object \n",
      " 61  GarageCars     1460 non-null   int64  \n",
      " 62  GarageArea     1460 non-null   int64  \n",
      " 63  GarageQual     1379 non-null   object \n",
      " 64  GarageCond     1379 non-null   object \n",
      " 65  PavedDrive     1460 non-null   object \n",
      " 66  WoodDeckSF     1460 non-null   int64  \n",
      " 67  OpenPorchSF    1460 non-null   int64  \n",
      " 68  EnclosedPorch  1460 non-null   int64  \n",
      " 69  3SsnPorch      1460 non-null   int64  \n",
      " 70  ScreenPorch    1460 non-null   int64  \n",
      " 71  PoolArea       1460 non-null   int64  \n",
      " 72  PoolQC         7 non-null      object \n",
      " 73  Fence          281 non-null    object \n",
      " 74  MiscFeature    54 non-null     object \n",
      " 75  MiscVal        1460 non-null   int64  \n",
      " 76  MoSold         1460 non-null   int64  \n",
      " 77  YrSold         1460 non-null   int64  \n",
      " 78  SaleType       1460 non-null   object \n",
      " 79  SaleCondition  1460 non-null   object \n",
      " 80  SalePrice      1460 non-null   int64  \n",
      "dtypes: float64(3), int64(35), object(43)\n",
      "memory usage: 924.0+ KB\n"
     ]
    }
   ],
   "metadata": {
    "deletable": false,
    "id": "GHK1_AnhVsh8",
    "nbgrader": {
     "cell_type": "code",
     "checksum": "7a11bf856bacdf7efeb651411907719a",
     "grade": false,
     "grade_id": "cell-604a4cd13da263c1",
     "locked": false,
     "schema_version": 3,
     "solution": true,
     "task": false
    }
   }
  },
  {
   "cell_type": "markdown",
   "source": [
    "**Task 1 Test**"
   ],
   "metadata": {
    "id": "0foQpPZmcRsY"
   }
  },
  {
   "cell_type": "code",
   "execution_count": 190,
   "source": [
    "# Task 1 - Test\r\n",
    "\r\n",
    "# These tests are for you to check your work before submitting\r\n",
    "assert isinstance(house, pd.DataFrame), 'Have you created a DataFrame named house?'\r\n",
    "\r\n",
    "# Hidden tests - you'll see results when you submit to Canvas"
   ],
   "outputs": [],
   "metadata": {
    "deletable": false,
    "editable": false,
    "id": "rOnKHd9OcRsY",
    "nbgrader": {
     "cell_type": "code",
     "checksum": "862a67ed985b5fabe236e26724f65cae",
     "grade": true,
     "grade_id": "cell-4be6ce6f2ae0213b",
     "locked": true,
     "points": 1,
     "schema_version": 3,
     "solution": false,
     "task": false
    }
   }
  },
  {
   "cell_type": "markdown",
   "source": [
    "**Task 2** - Create a new feature\n",
    "\n",
    "Now that we have the data loaded, we're going to create a new feature. We can use the some of the existing features, in this case, the total number of bathrooms in one column.\n",
    "\n",
    "* Create a new variable called `Total_Bathrooms` that contains the total number of full and half bathrooms in the house.  \n",
    "\n",
    "*Hint: Identify all the columns with bath in the title and add their values together. There are four columns to add together.  Add one to the total for each full or half bathroom.*"
   ],
   "metadata": {
    "id": "3MiNr26QcRsY"
   }
  },
  {
   "cell_type": "code",
   "execution_count": 191,
   "source": [
    "# Task 2\r\n",
    "\r\n",
    "# YOUR CODE HERE\r\n",
    "house['Total_Bathrooms'] = house['BsmtFullBath'] + house['BsmtHalfBath'] + house['FullBath'] + house['HalfBath']"
   ],
   "outputs": [],
   "metadata": {
    "deletable": false,
    "id": "abW4ju7scRsZ",
    "nbgrader": {
     "cell_type": "code",
     "checksum": "4b44666800833a50fdd72ff9bfe83477",
     "grade": false,
     "grade_id": "cell-98808d8ac7de9a36",
     "locked": false,
     "schema_version": 3,
     "solution": true,
     "task": false
    }
   }
  },
  {
   "cell_type": "markdown",
   "source": [
    "**Task 2 Test**"
   ],
   "metadata": {
    "id": "1OwdxrCpcRsZ"
   }
  },
  {
   "cell_type": "code",
   "execution_count": 192,
   "source": [
    "# Task 2 - Test\r\n",
    "\r\n",
    "assert 'Total_Bathrooms' in house.columns, 'Did you add the new column?'\r\n",
    "\r\n",
    "# Hidden tests - you'll see results when you submit to Canvas\r\n",
    "\r\n",
    "# View all the bathroom columns\r\n",
    "house[['Total_Bathrooms','BsmtFullBath','BsmtHalfBath','FullBath','HalfBath']].head()"
   ],
   "outputs": [
    {
     "output_type": "execute_result",
     "data": {
      "text/plain": [
       "   Total_Bathrooms  BsmtFullBath  BsmtHalfBath  FullBath  HalfBath\n",
       "0                4             1             0         2         1\n",
       "1                3             0             1         2         0\n",
       "2                4             1             0         2         1\n",
       "3                2             1             0         1         0\n",
       "4                4             1             0         2         1"
      ],
      "text/html": [
       "<div>\n",
       "<style scoped>\n",
       "    .dataframe tbody tr th:only-of-type {\n",
       "        vertical-align: middle;\n",
       "    }\n",
       "\n",
       "    .dataframe tbody tr th {\n",
       "        vertical-align: top;\n",
       "    }\n",
       "\n",
       "    .dataframe thead th {\n",
       "        text-align: right;\n",
       "    }\n",
       "</style>\n",
       "<table border=\"1\" class=\"dataframe\">\n",
       "  <thead>\n",
       "    <tr style=\"text-align: right;\">\n",
       "      <th></th>\n",
       "      <th>Total_Bathrooms</th>\n",
       "      <th>BsmtFullBath</th>\n",
       "      <th>BsmtHalfBath</th>\n",
       "      <th>FullBath</th>\n",
       "      <th>HalfBath</th>\n",
       "    </tr>\n",
       "  </thead>\n",
       "  <tbody>\n",
       "    <tr>\n",
       "      <th>0</th>\n",
       "      <td>4</td>\n",
       "      <td>1</td>\n",
       "      <td>0</td>\n",
       "      <td>2</td>\n",
       "      <td>1</td>\n",
       "    </tr>\n",
       "    <tr>\n",
       "      <th>1</th>\n",
       "      <td>3</td>\n",
       "      <td>0</td>\n",
       "      <td>1</td>\n",
       "      <td>2</td>\n",
       "      <td>0</td>\n",
       "    </tr>\n",
       "    <tr>\n",
       "      <th>2</th>\n",
       "      <td>4</td>\n",
       "      <td>1</td>\n",
       "      <td>0</td>\n",
       "      <td>2</td>\n",
       "      <td>1</td>\n",
       "    </tr>\n",
       "    <tr>\n",
       "      <th>3</th>\n",
       "      <td>2</td>\n",
       "      <td>1</td>\n",
       "      <td>0</td>\n",
       "      <td>1</td>\n",
       "      <td>0</td>\n",
       "    </tr>\n",
       "    <tr>\n",
       "      <th>4</th>\n",
       "      <td>4</td>\n",
       "      <td>1</td>\n",
       "      <td>0</td>\n",
       "      <td>2</td>\n",
       "      <td>1</td>\n",
       "    </tr>\n",
       "  </tbody>\n",
       "</table>\n",
       "</div>"
      ]
     },
     "metadata": {},
     "execution_count": 192
    }
   ],
   "metadata": {
    "deletable": false,
    "editable": false,
    "id": "N6jHujrScRsZ",
    "nbgrader": {
     "cell_type": "code",
     "checksum": "093af0e8e6677cdbd6f1239e2d394513",
     "grade": true,
     "grade_id": "cell-f9c97fbd0846aa11",
     "locked": true,
     "points": 1,
     "schema_version": 3,
     "solution": false,
     "task": false
    }
   }
  },
  {
   "cell_type": "markdown",
   "source": [
    "**Task 3** - Create a new feature using encoding\r\n",
    "\r\n",
    "Next we're going to create another new column by \"encoding\" an exisitng column. Using the `LotArea` column, we'll assign values according the the area of the lot.\r\n",
    "\r\n",
    "* Create a new column called `Large_Lot` that takes on the following values:\r\n",
    "    * 0 when `LotArea` is **less** than 10,000\r\n",
    "    * 1 when `LotArea` is **greater than or equal** to 10,000"
   ],
   "metadata": {
    "id": "s1T9P_I0XJqa"
   }
  },
  {
   "cell_type": "code",
   "execution_count": 196,
   "source": [
    "# Task 3\r\n",
    "\r\n",
    "# YOUR CODE HERE\r\n",
    "Large_Lot = house['LotArea'].copy()\r\n",
    "\r\n",
    "greater = Large_Lot >= 10000\r\n",
    "less = Large_Lot < 10000\r\n",
    "Large_Lot[greater] = 1\r\n",
    "Large_Lot[less] = 0\r\n",
    "\r\n",
    "house['Large_Lot'] = Large_Lot\r\n",
    "# View the new column\r\n",
    "house[['LotArea', 'Large_Lot']].head()\r\n"
   ],
   "outputs": [
    {
     "output_type": "stream",
     "name": "stdout",
     "text": [
      "0        8450\n",
      "1        9600\n",
      "2       11250\n",
      "3        9550\n",
      "4       14260\n",
      "        ...  \n",
      "1455     7917\n",
      "1456    13175\n",
      "1457     9042\n",
      "1458     9717\n",
      "1459     9937\n",
      "Name: LotArea, Length: 1460, dtype: int64\n"
     ]
    },
    {
     "output_type": "stream",
     "name": "stderr",
     "text": [
      "C:\\Users\\coco\\AppData\\Local\\Temp/ipykernel_13984/654731675.py:9: SettingWithCopyWarning: \n",
      "A value is trying to be set on a copy of a slice from a DataFrame\n",
      "\n",
      "See the caveats in the documentation: https://pandas.pydata.org/pandas-docs/stable/user_guide/indexing.html#returning-a-view-versus-a-copy\n",
      "  Large_Lot[greater] = 1\n",
      "C:\\Users\\coco\\AppData\\Local\\Temp/ipykernel_13984/654731675.py:10: SettingWithCopyWarning: \n",
      "A value is trying to be set on a copy of a slice from a DataFrame\n",
      "\n",
      "See the caveats in the documentation: https://pandas.pydata.org/pandas-docs/stable/user_guide/indexing.html#returning-a-view-versus-a-copy\n",
      "  Large_Lot[less] = 0\n"
     ]
    },
    {
     "output_type": "execute_result",
     "data": {
      "text/plain": [
       "   LotArea  Large_Lot\n",
       "0        0          0\n",
       "1        0          0\n",
       "2        1          1\n",
       "3        0          0\n",
       "4        1          1"
      ],
      "text/html": [
       "<div>\n",
       "<style scoped>\n",
       "    .dataframe tbody tr th:only-of-type {\n",
       "        vertical-align: middle;\n",
       "    }\n",
       "\n",
       "    .dataframe tbody tr th {\n",
       "        vertical-align: top;\n",
       "    }\n",
       "\n",
       "    .dataframe thead th {\n",
       "        text-align: right;\n",
       "    }\n",
       "</style>\n",
       "<table border=\"1\" class=\"dataframe\">\n",
       "  <thead>\n",
       "    <tr style=\"text-align: right;\">\n",
       "      <th></th>\n",
       "      <th>LotArea</th>\n",
       "      <th>Large_Lot</th>\n",
       "    </tr>\n",
       "  </thead>\n",
       "  <tbody>\n",
       "    <tr>\n",
       "      <th>0</th>\n",
       "      <td>0</td>\n",
       "      <td>0</td>\n",
       "    </tr>\n",
       "    <tr>\n",
       "      <th>1</th>\n",
       "      <td>0</td>\n",
       "      <td>0</td>\n",
       "    </tr>\n",
       "    <tr>\n",
       "      <th>2</th>\n",
       "      <td>1</td>\n",
       "      <td>1</td>\n",
       "    </tr>\n",
       "    <tr>\n",
       "      <th>3</th>\n",
       "      <td>0</td>\n",
       "      <td>0</td>\n",
       "    </tr>\n",
       "    <tr>\n",
       "      <th>4</th>\n",
       "      <td>1</td>\n",
       "      <td>1</td>\n",
       "    </tr>\n",
       "  </tbody>\n",
       "</table>\n",
       "</div>"
      ]
     },
     "metadata": {},
     "execution_count": 196
    }
   ],
   "metadata": {
    "deletable": false,
    "id": "ud09Dy0zreRB",
    "nbgrader": {
     "cell_type": "code",
     "checksum": "2169d6a1299d1df3b06f61755cf8c7fa",
     "grade": false,
     "grade_id": "cell-baf76e10fc75872a",
     "locked": false,
     "schema_version": 3,
     "solution": true,
     "task": false
    }
   }
  },
  {
   "cell_type": "markdown",
   "source": [
    "**Task 3 Test**"
   ],
   "metadata": {
    "id": "vwEhAoH1cRsa"
   }
  },
  {
   "cell_type": "code",
   "execution_count": 194,
   "source": [
    "# Task 3 - Test\r\n",
    "\r\n",
    "assert 'Large_Lot' in house.columns, 'Did you add the Large_Lot column?'\r\n",
    "\r\n",
    "# Hidden tests - you'll see results when you submit to Canvas"
   ],
   "outputs": [],
   "metadata": {
    "deletable": false,
    "editable": false,
    "id": "8NQ7oBzKcRsa",
    "nbgrader": {
     "cell_type": "code",
     "checksum": "f995a23669cfb8800b807917cea5c6d4",
     "grade": true,
     "grade_id": "cell-dc861d3d6dbf7bec",
     "locked": true,
     "points": 1,
     "schema_version": 3,
     "solution": false,
     "task": false
    }
   }
  },
  {
   "cell_type": "markdown",
   "source": [
    "**Task 4** - Create another feature\n",
    "\n",
    "Let's continue with creating new features. This time, we'll focus on encoding for the sale month.\n",
    "\n",
    "* Create a new column called `Summer_Sale` that takes on the following values:\n",
    "    * 0 if the sale month was in September - May (`ModSold` = 1-5, 9-12)\n",
    "    * 1 if the sale month was in June, July or August (`MoSold` = 6, 7 or 8)"
   ],
   "metadata": {
    "id": "bnh-uoqYN29Q"
   }
  },
  {
   "cell_type": "code",
   "execution_count": 195,
   "source": [
    "# Task 4\r\n",
    "\r\n",
    "# YOUR CODE HERE\r\n",
    "raise NotImplementedError()\r\n",
    "\r\n",
    "# View the new column\r\n",
    "house[['MoSold', 'Summer_Sale']]"
   ],
   "outputs": [
    {
     "output_type": "error",
     "ename": "NotImplementedError",
     "evalue": "",
     "traceback": [
      "\u001b[1;31m---------------------------------------------------------------------------\u001b[0m",
      "\u001b[1;31mNotImplementedError\u001b[0m                       Traceback (most recent call last)",
      "\u001b[1;32m~\\AppData\\Local\\Temp/ipykernel_13984/2113580463.py\u001b[0m in \u001b[0;36m<module>\u001b[1;34m\u001b[0m\n\u001b[0;32m      2\u001b[0m \u001b[1;33m\u001b[0m\u001b[0m\n\u001b[0;32m      3\u001b[0m \u001b[1;31m# YOUR CODE HERE\u001b[0m\u001b[1;33m\u001b[0m\u001b[1;33m\u001b[0m\u001b[1;33m\u001b[0m\u001b[0m\n\u001b[1;32m----> 4\u001b[1;33m \u001b[1;32mraise\u001b[0m \u001b[0mNotImplementedError\u001b[0m\u001b[1;33m(\u001b[0m\u001b[1;33m)\u001b[0m\u001b[1;33m\u001b[0m\u001b[1;33m\u001b[0m\u001b[0m\n\u001b[0m\u001b[0;32m      5\u001b[0m \u001b[1;33m\u001b[0m\u001b[0m\n\u001b[0;32m      6\u001b[0m \u001b[1;31m# View the new column\u001b[0m\u001b[1;33m\u001b[0m\u001b[1;33m\u001b[0m\u001b[1;33m\u001b[0m\u001b[0m\n",
      "\u001b[1;31mNotImplementedError\u001b[0m: "
     ]
    }
   ],
   "metadata": {
    "deletable": false,
    "id": "3oHxB9JecRsb",
    "nbgrader": {
     "cell_type": "code",
     "checksum": "ea6c24c4077f091262db848c37ccf650",
     "grade": false,
     "grade_id": "cell-077200eae8a405e2",
     "locked": false,
     "schema_version": 3,
     "solution": true,
     "task": false
    }
   }
  },
  {
   "cell_type": "markdown",
   "source": [
    "**Task 4 Test**"
   ],
   "metadata": {
    "id": "-g9YtACzcRsb"
   }
  },
  {
   "cell_type": "code",
   "execution_count": null,
   "source": [
    "# Task 4 - Test\r\n",
    "\r\n",
    "assert 'Summer_Sale' in house.columns, 'Did you add the Summer_Sale column?'\r\n",
    "\r\n",
    "# Hidden tests - you'll see results when you submit to Canvas"
   ],
   "outputs": [],
   "metadata": {
    "deletable": false,
    "editable": false,
    "id": "WvJbX9WJcRsb",
    "nbgrader": {
     "cell_type": "code",
     "checksum": "f376221e60d262c6ce30a843590c5d46",
     "grade": true,
     "grade_id": "cell-7df13700c084fe99",
     "locked": true,
     "points": 1,
     "schema_version": 3,
     "solution": false,
     "task": false
    }
   }
  },
  {
   "cell_type": "markdown",
   "source": [
    "**Task 5**\n",
    "\n",
    "Now we'll revisit the LendingClub data. The statements to import the `loans` DataFrame have been provided for you.  Run the code block below without changing anything to load the `loans` data.\n",
    "\n",
    "* Load the data into a DataFrame called `loans`.\n",
    "* Make sure to view the `loans` DataFrame to see what data we're working with."
   ],
   "metadata": {
    "id": "B_9CTa2QYcpu"
   }
  },
  {
   "cell_type": "code",
   "execution_count": null,
   "source": [
    "# Task 5\r\n",
    "\r\n",
    "# Dataset URL\r\n",
    "\r\n",
    "# Dataset URL\r\n",
    "loans_data = 'https://raw.githubusercontent.com/LambdaSchool/data-science-practice-datasets/main/unit_1/LendingClub/LoanStats_2018Q4_sm.csv'\r\n",
    "\r\n",
    "# YOUR CODE HERE\r\n",
    "raise NotImplementedError()\r\n",
    "\r\n",
    "# View the dataset!\r\n"
   ],
   "outputs": [],
   "metadata": {
    "deletable": false,
    "id": "ZlXycTiAcRsc",
    "nbgrader": {
     "cell_type": "code",
     "checksum": "e0d44b4275613a840e87fd51c2afa266",
     "grade": false,
     "grade_id": "cell-a03fb13afedb44b5",
     "locked": false,
     "schema_version": 3,
     "solution": true,
     "task": false
    }
   }
  },
  {
   "cell_type": "markdown",
   "source": [
    "**Tast 5 Test**"
   ],
   "metadata": {
    "id": "sQnzQAZrcRsc"
   }
  },
  {
   "cell_type": "code",
   "execution_count": null,
   "source": [
    "# Task 5 - Test\r\n",
    "\r\n",
    "assert isinstance(loans, pd.DataFrame), 'Have you created a DataFrame named loans?'\r\n",
    "assert loans.shape == (30000, 144), 'Double check your DataFrame size.'\r\n",
    "\r\n",
    "# NO hidden tests for this task"
   ],
   "outputs": [],
   "metadata": {
    "deletable": false,
    "editable": false,
    "id": "kMyyAyAZcRsc",
    "nbgrader": {
     "cell_type": "code",
     "checksum": "8778b4b25a3faf54fc16085292c5f93f",
     "grade": true,
     "grade_id": "cell-365203eb4c6651fd",
     "locked": true,
     "points": 1,
     "schema_version": 3,
     "solution": false,
     "task": false
    }
   }
  },
  {
   "cell_type": "markdown",
   "source": [
    "**Introduction** - Approaching a problem two different ways.\n",
    "\n",
    "In the Guided Project, we learned how to find the earliest credit year using the built-in date-time format.  However, there is often more than one way to come up with the same solution.  \n",
    "\n",
    "In the following questions, we will work through the steps to create new variables called `Earliest_Credit_Year` and `issue_year` where we use the `.split()` function to split on the month and year in a string variable, and return just the year value. We can then use those variables to calculate the length of credit history in years.  \n",
    "\n",
    "If we do everything correctly, we should calculate *about* the same length of longest credit history that we did in class working with the date-time format.  The answers won't exactly match because we are making different assumptions about when in each month and year the loans were taken out, but it will give you a flavor for different ways of approaching the same problem."
   ],
   "metadata": {
    "id": "qnT_KD-MhLfg"
   }
  },
  {
   "cell_type": "markdown",
   "source": [
    "**Task 6** - Create a simple test case\n",
    "\n",
    "The `credit` variable has been created for you with the value 'Jun-1979'\n",
    "\n",
    "* Use the `.split('-')` function to separate the month and year parts of the data.\n",
    "* Name the results of the .split('-') function `fields`: \n",
    "    * assign `fields[0]` to the variable `month`\n",
    "    * assign `fields[1]` to the variable `year`"
   ],
   "metadata": {
    "id": "Lx0kHSTFhoKj"
   }
  },
  {
   "cell_type": "code",
   "execution_count": null,
   "source": [
    "# Task 6\n",
    "\n",
    "# Don't change or delete\n",
    "credit = 'Jun-1979' \n",
    "\n",
    "# YOUR CODE HERE\n",
    "raise NotImplementedError()\n",
    "\n",
    "# Look at the year variable both as a string and as a float\n",
    "print('String: ', year)\n",
    "print('Float: ', float(year))"
   ],
   "outputs": [],
   "metadata": {
    "deletable": false,
    "id": "y80jf99GaKsL",
    "nbgrader": {
     "cell_type": "code",
     "checksum": "f119acd233e67660a97cac257a43f19b",
     "grade": false,
     "grade_id": "cell-2e0e85d026ef0577",
     "locked": false,
     "schema_version": 3,
     "solution": true,
     "task": false
    }
   }
  },
  {
   "cell_type": "markdown",
   "source": [
    "**Task 6 Test**"
   ],
   "metadata": {
    "id": "hScLOlxAcRse"
   }
  },
  {
   "cell_type": "code",
   "execution_count": null,
   "source": [
    "# Task 6 - Test\n",
    "\n",
    "# Hidden tests - you'll see results when you submit to Canvas"
   ],
   "outputs": [],
   "metadata": {
    "deletable": false,
    "editable": false,
    "id": "VkMqAQcCcRse",
    "nbgrader": {
     "cell_type": "code",
     "checksum": "5fbe2cfd02715641fbf21a4b319a9b16",
     "grade": true,
     "grade_id": "cell-95ad43446cc5faaa",
     "locked": true,
     "points": 1,
     "schema_version": 3,
     "solution": false,
     "task": false
    }
   }
  },
  {
   "cell_type": "markdown",
   "source": [
    "**Task 7** - Create a function\n",
    "\n",
    "Use your answer from **Task 6** to write a function called `credit_yr` that takes in the contents of a cell that is formatted as \"month-year\" and returns the year.\n",
    "\n",
    "* Complete the definition of the function `credit_yr` below:\n",
    "    * one argument `cell_contents` as input (provided for you)\n",
    "    * splits the `cell_content` on a `-` and calls the result `fields`\n",
    "    * creates the variable `year` which has the value `fields[1]`\n",
    "    * returns `year` as a float variable\n",
    "* Run your function using the simple test case in Task 6 (`credit='Jun-1979'`). Assign the output of the function to the variable `year_function`."
   ],
   "metadata": {
    "id": "TtC6exPui9y4"
   }
  },
  {
   "cell_type": "code",
   "execution_count": null,
   "source": [
    "# Task 7\n",
    "\n",
    "# Complete the function definition\n",
    "def credit_yr(cell_contents):\n",
    "# YOUR CODE HERE\n",
    "raise NotImplementedError()\n",
    "\n",
    "# Print your year_function variable\n",
    "year_function"
   ],
   "outputs": [],
   "metadata": {
    "deletable": false,
    "id": "dtF2-tjogC6J",
    "nbgrader": {
     "cell_type": "code",
     "checksum": "9d5cceb4eb91cd83d0eb1ad0310bdc0e",
     "grade": false,
     "grade_id": "cell-67705c48e95b83db",
     "locked": false,
     "schema_version": 3,
     "solution": true,
     "task": false
    }
   }
  },
  {
   "cell_type": "markdown",
   "source": [
    "**Task 7 Test**"
   ],
   "metadata": {
    "id": "-bQ0sYPVcRsf"
   }
  },
  {
   "cell_type": "code",
   "execution_count": null,
   "source": [
    "# Task 7 - Test\n",
    "\n",
    "assert isinstance(year_function, float), 'Make sure your year variable is a float!'\n",
    "\n",
    "# Hidden tests - you'll see results when you submit to Canvas"
   ],
   "outputs": [],
   "metadata": {
    "deletable": false,
    "editable": false,
    "id": "nea_V08lcRsf",
    "nbgrader": {
     "cell_type": "code",
     "checksum": "c0208e15b36760d1a1d0d0ea94bacda0",
     "grade": true,
     "grade_id": "cell-e850dcb0651cdf47",
     "locked": true,
     "points": 1,
     "schema_version": 3,
     "solution": false,
     "task": false
    }
   }
  },
  {
   "cell_type": "markdown",
   "source": [
    "**Task 8** - Apply our function\n",
    "\n",
    "Now we're going to use the function we created and apply it to a column in our `loans` DataFrame. \n",
    "\n",
    "* Use the `.apply()` function to apply the function to every cell in the `earliest_cr_line` column.\n",
    "* Assign the results to a new column called `Earliest_Credit_Year`.\n",
    "* View the top five rows of the `Earliest_Credit_Year` and `earliest_cr_line` columns to make sure the variables were created correctly (code provided for you)."
   ],
   "metadata": {
    "id": "a1XVfTOIjfrW"
   }
  },
  {
   "cell_type": "code",
   "execution_count": null,
   "source": [
    "# Task 8\n",
    "\n",
    "loans = loans.copy()\n",
    "\n",
    "# YOUR CODE HERE\n",
    "raise NotImplementedError()\n",
    "\n",
    "# Print your columns\n",
    "loans[['Earliest_Credit_Year','earliest_cr_line']].head()"
   ],
   "outputs": [],
   "metadata": {
    "deletable": false,
    "id": "lZhlULhykCB_",
    "nbgrader": {
     "cell_type": "code",
     "checksum": "06a8503a192be83061e085a9462c9faf",
     "grade": false,
     "grade_id": "cell-190721b22d999b13",
     "locked": false,
     "schema_version": 3,
     "solution": true,
     "task": false
    }
   }
  },
  {
   "cell_type": "markdown",
   "source": [
    "**Task 8 Test**"
   ],
   "metadata": {
    "id": "KW3dvjORcRsg"
   }
  },
  {
   "cell_type": "code",
   "execution_count": null,
   "source": [
    "# Task 8 - Test\n",
    "\n",
    "assert 'Earliest_Credit_Year' in loans.columns, 'Did you add the \"Earliest_Credit_Year\" column?'\n",
    "assert loans.shape == (30000, 145), 'Double check your DataFrame size.'\n",
    "\n",
    "# Hidden tests - you'll see results when you submit to Canvas"
   ],
   "outputs": [],
   "metadata": {
    "deletable": false,
    "editable": false,
    "id": "sBJQDUJxcRsg",
    "nbgrader": {
     "cell_type": "code",
     "checksum": "5922454ea6c43cbed0d38b36295f006c",
     "grade": true,
     "grade_id": "cell-1c6181c54ca22ae6",
     "locked": true,
     "points": 1,
     "schema_version": 3,
     "solution": false,
     "task": false
    }
   }
  },
  {
   "cell_type": "markdown",
   "source": [
    "**Task 9** - Apply the function to a new column\n",
    "\n",
    "So next, we're going to use the `credit_yr` function to create a new variable called `Issue_Year` from the `issue_d` variable. Follow the sames steps as you did in Task 8.\n",
    "\n",
    "* Apply `credit_yr` to the `issue_d` column.\n",
    "* Name your new column `Issue_Year`.\n",
    "* View the `Issue_Year`,`issue_d` columns (code provided for you)."
   ],
   "metadata": {
    "id": "w5vb0vQjg3Sj"
   }
  },
  {
   "cell_type": "code",
   "execution_count": null,
   "source": [
    "# Task 9\n",
    "\n",
    "# YOUR CODE HERE\n",
    "raise NotImplementedError()\n",
    "\n",
    "# Print your columns\n",
    "loans[['Issue_Year','issue_d']].head()"
   ],
   "outputs": [],
   "metadata": {
    "deletable": false,
    "id": "5sIn85mbg1pw",
    "nbgrader": {
     "cell_type": "code",
     "checksum": "203c38c6d3020749d9460f27b3d73f2e",
     "grade": false,
     "grade_id": "cell-b31b3dfe0d069095",
     "locked": false,
     "schema_version": 3,
     "solution": true,
     "task": false
    }
   }
  },
  {
   "cell_type": "markdown",
   "source": [
    "**Task 9**"
   ],
   "metadata": {
    "id": "Oa__5NeAcRsg"
   }
  },
  {
   "cell_type": "code",
   "execution_count": null,
   "source": [
    "# Task 9 - Test\n",
    "\n",
    "assert 'Issue_Year' in loans.columns, 'Did you add the \"Issue_Year\" column?'\n",
    "assert loans.shape == (30000, 146), 'Double check your DataFrame size.'\n",
    "\n",
    "# Hidden tests - you'll see results when you submit to Canvas"
   ],
   "outputs": [],
   "metadata": {
    "deletable": false,
    "editable": false,
    "id": "hLdmvYJqcRsh",
    "nbgrader": {
     "cell_type": "code",
     "checksum": "d4c482e283b26971356d81e800bb2198",
     "grade": true,
     "grade_id": "cell-1ae1a8aef5f84b70",
     "locked": true,
     "points": 1,
     "schema_version": 3,
     "solution": false,
     "task": false
    }
   }
  },
  {
   "cell_type": "markdown",
   "source": [
    "**Task 10** - Calculate length of time from your new columns\n",
    "\n",
    "Now we're going to use the two new columns you created to calculate the length of credit history in years and in days.\n",
    "\n",
    "* Create a new column called `Credit_History_Years` which is the difference between `Issue_Year` and `Earliest_Credit_Year`\n",
    "* Create another new column called `Credit_History_Days` which is the value in the column you created above expect multipled by 365.25 to convert years to days.\n",
    "* View the top five rows of the `loans` DataFrame (code has been provided).\n",
    "\n",
    "Hint: If you are getting an error message, make sure to check the data type of the `year` values output by your function."
   ],
   "metadata": {
    "id": "iZItgQjQiCh9"
   }
  },
  {
   "cell_type": "code",
   "execution_count": null,
   "source": [
    "# Task 10\n",
    "\n",
    "# YOUR CODE HERE\n",
    "raise NotImplementedError()\n",
    "\n",
    "loans[['Issue_Year','Earliest_Credit_Year','Credit_History_Years','Credit_History_Days']].head()"
   ],
   "outputs": [],
   "metadata": {
    "deletable": false,
    "id": "0mT7pG9hiTf2",
    "nbgrader": {
     "cell_type": "code",
     "checksum": "024db84343a316dbc1c3ae0cb48307c3",
     "grade": false,
     "grade_id": "cell-2f411113665bb37a",
     "locked": false,
     "schema_version": 3,
     "solution": true,
     "task": false
    }
   }
  },
  {
   "cell_type": "markdown",
   "source": [
    "**Task 10 Test**"
   ],
   "metadata": {
    "id": "RZ-9Qih6cRsh"
   }
  },
  {
   "cell_type": "code",
   "execution_count": null,
   "source": [
    "# Task 10 - Test\n",
    "\n",
    "assert 'Credit_History_Years' in loans.columns, 'Did you add the correct column?'\n",
    "assert 'Credit_History_Days' in loans.columns, 'Did you add the correct column converted to days?'\n",
    "assert loans.shape == (30000, 148), 'Double check your DataFrame size.'\n",
    "\n",
    "# Hidden tests - you'll see results when you submit to Canvas"
   ],
   "outputs": [],
   "metadata": {
    "deletable": false,
    "editable": false,
    "id": "sd5cWJ7BcRsh",
    "nbgrader": {
     "cell_type": "code",
     "checksum": "7d1deccb8585b3635ebbcd6a50f887df",
     "grade": true,
     "grade_id": "cell-e3694613b297ae85",
     "locked": true,
     "points": 1,
     "schema_version": 3,
     "solution": false,
     "task": false
    }
   }
  },
  {
   "cell_type": "markdown",
   "source": [
    "**Task 11** - Calculate the maximum credit length\n",
    "\n",
    "Finally, we're going to use results from the `Credit_History_Years` column and compare it to we got in the Guided Project.\n",
    "\n",
    "* Find the maximum values in the `Credit_History_Years` column and assign it to the variable `max_credit`. Make sure you have a float value defined out to one decimal place.\n",
    "* Compare the the value from the Guided Project (refer to your notebook from class).\n",
    "\n",
    "Note - it won't be *exactly* the same because both methods are working in different ways, but they will give you a \"pretty close\" answer."
   ],
   "metadata": {
    "id": "PvcOSw9gjUzF"
   }
  },
  {
   "cell_type": "code",
   "execution_count": null,
   "source": [
    "# Task 11\n",
    "\n",
    "# YOUR CODE HERE\n",
    "raise NotImplementedError()"
   ],
   "outputs": [],
   "metadata": {
    "deletable": false,
    "id": "gmNFZzaQjdQi",
    "nbgrader": {
     "cell_type": "code",
     "checksum": "18f87705debb5f4d4c75be2159796925",
     "grade": false,
     "grade_id": "cell-421ef18e66bbaab0",
     "locked": false,
     "schema_version": 3,
     "solution": true,
     "task": false
    }
   }
  },
  {
   "cell_type": "markdown",
   "source": [
    "**Task 11 Test**"
   ],
   "metadata": {
    "id": "8v7nvfJHcRsi"
   }
  },
  {
   "cell_type": "code",
   "execution_count": null,
   "source": [
    "# Task 11 - Test\n",
    "\n",
    "# Hidden tests - you'll see results when you submit to Canvas\n"
   ],
   "outputs": [],
   "metadata": {
    "deletable": false,
    "editable": false,
    "id": "HtINJWibcRsi",
    "nbgrader": {
     "cell_type": "code",
     "checksum": "6c136ce5c21a864d092273a0ae080725",
     "grade": true,
     "grade_id": "cell-b39de9ca5d93a343",
     "locked": true,
     "points": 1,
     "schema_version": 3,
     "solution": false,
     "task": false
    }
   }
  }
 ],
 "metadata": {
  "colab": {
   "collapsed_sections": [],
   "name": "LS_DS_112_Make_Features_Assignment_AG.ipynb",
   "provenance": []
  },
  "kernelspec": {
   "name": "python3",
   "display_name": "Python 3.9.6 64-bit"
  },
  "language_info": {
   "codemirror_mode": {
    "name": "ipython",
    "version": 3
   },
   "file_extension": ".py",
   "mimetype": "text/x-python",
   "name": "python",
   "nbconvert_exporter": "python",
   "pygments_lexer": "ipython3",
   "version": "3.9.6"
  },
  "interpreter": {
   "hash": "4b7a67c094ca4859574ab7812cb20959fc8d8ba5f9f349a7149ef35bab6b6336"
  }
 },
 "nbformat": 4,
 "nbformat_minor": 1
}