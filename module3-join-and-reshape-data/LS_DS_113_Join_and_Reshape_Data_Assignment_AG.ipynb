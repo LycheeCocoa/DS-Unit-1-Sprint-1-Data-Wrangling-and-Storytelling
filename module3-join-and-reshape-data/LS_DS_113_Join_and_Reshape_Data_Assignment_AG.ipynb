{
 "cells": [
  {
   "cell_type": "markdown",
   "source": [
    "## Autograded Notebook (Canvas & CodeGrade)\n",
    "\n",
    "This notebook will be automatically graded. It is designed to test your answers and award points for the correct answers. Following the instructions for each Task carefully.\n",
    "\n",
    "### Instructions\n",
    "\n",
    "* **Download this notebook** as you would any other ipynb file\n",
    "* **Upload** to Google Colab or work locally (if you have that set-up)\n",
    "* **Delete `raise NotImplementedError()`**\n",
    "* Write your code in the `# YOUR CODE HERE` space\n",
    "* **Execute** the Test cells that contain `assert` statements - these help you check your work (others contain hidden tests that will be checked when you submit through Canvas)\n",
    "* **Save** your notebook when you are finished\n",
    "* **Download** as a `ipynb` file (if working in Colab)\n",
    "* **Upload** your complete notebook to Canvas (there will be additional instructions in Slack and/or Canvas)"
   ],
   "metadata": {}
  },
  {
   "cell_type": "markdown",
   "source": [
    "# Lambda School Data Science - Unit 1 Sprint 1 Module 3\r\n",
    "\r\n",
    "## Join and Reshape Data \r\n",
    "\r\n",
    "### Module Learning Objectives\r\n",
    "\r\n",
    "* Concatenate data using the pandas concat method\r\n",
    "* Merge data using pandas merge\r\n",
    "* Define the concept of tidy data and describe the format\r\n",
    "* Tidy data\r\n",
    "\r\n",
    "### Helpful Resources\r\n",
    "\r\n",
    "* [Pandas Cheat Sheet](https://github.com/pandas-dev/pandas/blob/master/doc/cheatsheet/Pandas_Cheat_Sheet.pdf)\r\n",
    "* Python Data Science Handbook\r\n",
    "    * [Chapter 3.6](https://jakevdp.github.io/PythonDataScienceHandbook/03.06-concat-and-append.html), Combining Datasets: Concat and Append\r\n",
    "    * [Chapter 3.7](https://jakevdp.github.io/PythonDataScienceHandbook/03.07-merge-and-join.html), Combining Datasets: Merge and Join\r\n",
    "    * [Chapter 3.8](https://jakevdp.github.io/PythonDataScienceHandbook/03.08-aggregation-and-grouping.html), Aggregation and Grouping\r\n",
    "    * [Chapter 3.9](https://jakevdp.github.io/PythonDataScienceHandbook/03.09-pivot-tables.html), Pivot Tables\r\n",
    "    \r\n",
    "### Notebook points: 8"
   ],
   "metadata": {}
  },
  {
   "cell_type": "markdown",
   "source": [
    "## Introduction\r\n",
    "\r\n",
    "In this Module Project, we're going to focus on manipulating data: loading multiple datasets from different locations, concatenating, merging, and even the fancy pandas `groupby` method.\r\n",
    "\r\n",
    "## Dataset Description\r\n",
    "\r\n",
    "You can view the CSV files [here](https://github.com/LambdaSchool/data-science-practice-datasets/tree/main/unit_1/Instacart_small), before you load them into your notebook."
   ],
   "metadata": {}
  },
  {
   "cell_type": "markdown",
   "source": [
    "**Task 1** - Load CSV files\r\n",
    "\r\n",
    "We're going to look at the Instacart data and load the files as we need them. The Pandas and numpy import statements have been provided for you as well as the URL for the dataset.\r\n",
    "\r\n",
    "* Using the provided URL (`data_url1`) load the product CSV file into a DataFrame called `product_names`.\r\n",
    "* Print the top five records (or rows) of `product_names`."
   ],
   "metadata": {}
  },
  {
   "cell_type": "code",
   "execution_count": 307,
   "source": [
    "# Task 1\r\n",
    "\r\n",
    "# Imports \r\n",
    "import pandas as pd\r\n",
    "import numpy as np\r\n",
    "\r\n",
    "# Dataset URL\r\n",
    "data_url1 = 'https://raw.githubusercontent.com/LambdaSchool/data-science-practice-datasets/main/unit_1/Instacart_small/product_names_sm.csv'\r\n",
    "# YOUR CODE HERE\r\n",
    "product_names = pd.read_csv(data_url1)\r\n",
    "# View the DataFrame\r\n",
    "product_names.head()"
   ],
   "outputs": [
    {
     "output_type": "execute_result",
     "data": {
      "text/plain": [
       "   product_id                                    product_name  aisle_id  \\\n",
       "0       45676  Oil Free Acne Stress Control Power Clear Scrub        73   \n",
       "1       35408                      Soymilk Vanilla Value Size        91   \n",
       "2       37442                                       Vegan Egg        86   \n",
       "3       41599                 Organic Echinacea Herb Capsules        47   \n",
       "4       21994                      Premium Saline Nasal Spray        11   \n",
       "\n",
       "   department_id  \n",
       "0             11  \n",
       "1             16  \n",
       "2             16  \n",
       "3             11  \n",
       "4             11  "
      ],
      "text/html": [
       "<div>\n",
       "<style scoped>\n",
       "    .dataframe tbody tr th:only-of-type {\n",
       "        vertical-align: middle;\n",
       "    }\n",
       "\n",
       "    .dataframe tbody tr th {\n",
       "        vertical-align: top;\n",
       "    }\n",
       "\n",
       "    .dataframe thead th {\n",
       "        text-align: right;\n",
       "    }\n",
       "</style>\n",
       "<table border=\"1\" class=\"dataframe\">\n",
       "  <thead>\n",
       "    <tr style=\"text-align: right;\">\n",
       "      <th></th>\n",
       "      <th>product_id</th>\n",
       "      <th>product_name</th>\n",
       "      <th>aisle_id</th>\n",
       "      <th>department_id</th>\n",
       "    </tr>\n",
       "  </thead>\n",
       "  <tbody>\n",
       "    <tr>\n",
       "      <th>0</th>\n",
       "      <td>45676</td>\n",
       "      <td>Oil Free Acne Stress Control Power Clear Scrub</td>\n",
       "      <td>73</td>\n",
       "      <td>11</td>\n",
       "    </tr>\n",
       "    <tr>\n",
       "      <th>1</th>\n",
       "      <td>35408</td>\n",
       "      <td>Soymilk Vanilla Value Size</td>\n",
       "      <td>91</td>\n",
       "      <td>16</td>\n",
       "    </tr>\n",
       "    <tr>\n",
       "      <th>2</th>\n",
       "      <td>37442</td>\n",
       "      <td>Vegan Egg</td>\n",
       "      <td>86</td>\n",
       "      <td>16</td>\n",
       "    </tr>\n",
       "    <tr>\n",
       "      <th>3</th>\n",
       "      <td>41599</td>\n",
       "      <td>Organic Echinacea Herb Capsules</td>\n",
       "      <td>47</td>\n",
       "      <td>11</td>\n",
       "    </tr>\n",
       "    <tr>\n",
       "      <th>4</th>\n",
       "      <td>21994</td>\n",
       "      <td>Premium Saline Nasal Spray</td>\n",
       "      <td>11</td>\n",
       "      <td>11</td>\n",
       "    </tr>\n",
       "  </tbody>\n",
       "</table>\n",
       "</div>"
      ]
     },
     "metadata": {},
     "execution_count": 307
    }
   ],
   "metadata": {
    "deletable": false,
    "nbgrader": {
     "cell_type": "code",
     "checksum": "0df9e574dae5253e3ce8f5cd52cf1eb0",
     "grade": false,
     "grade_id": "cell-ef51cab74649e553",
     "locked": false,
     "schema_version": 3,
     "solution": true,
     "task": false
    }
   }
  },
  {
   "cell_type": "code",
   "execution_count": 308,
   "source": [
    "# Task 1 - Test\r\n",
    "\r\n",
    "assert isinstance(product_names, pd.DataFrame), 'Have you created a DataFrame named `product_names`?'\r\n",
    "assert len(product_names) == 25000\r\n"
   ],
   "outputs": [],
   "metadata": {
    "deletable": false,
    "editable": false,
    "nbgrader": {
     "cell_type": "code",
     "checksum": "bea14a7668c2db125da981949f9ca157",
     "grade": true,
     "grade_id": "cell-cf00b9647815499e",
     "locked": true,
     "points": 1,
     "schema_version": 3,
     "solution": false,
     "task": false
    }
   }
  },
  {
   "cell_type": "markdown",
   "source": [
    "**Task 2** - DataFrame concatenation\r\n",
    "\r\n",
    "Next, we're going to load two additional CSV files. The URLs have been provided so your task is to load the files into the appropriately named DataFrames and then to concatenate them into one DataFrame.\r\n",
    "\r\n",
    "* Load the CSV file at `data_url2` into a DataFrame called `order_products_prior`.\r\n",
    "* Load the CSV file at `data_url3` into a DataFrame called `order_products_train`.\r\n",
    "* Concatenate `order_products_prior` and `order_products_train` into one DataFrame called `order_products`."
   ],
   "metadata": {}
  },
  {
   "cell_type": "code",
   "execution_count": 309,
   "source": [
    "# Task 2\r\n",
    "\r\n",
    "# Dataset URLs\r\n",
    "data_url2 = 'https://raw.githubusercontent.com/LambdaSchool/data-science-practice-datasets/main/unit_1/Instacart_small/order_products_prior_sm.csv'\r\n",
    "data_url3 = 'https://raw.githubusercontent.com/LambdaSchool/data-science-practice-datasets/main/unit_1/Instacart_small/order_products_train_sm.csv'\r\n",
    "\r\n",
    "# YOUR CODE HERE\r\n",
    "order_products_prior = pd.read_csv(data_url2)\r\n",
    "order_products_train = pd.read_csv(data_url3)\r\n",
    "order_products = pd.concat([order_products_prior, order_products_train])\r\n",
    "# Print the head to view your results\r\n",
    "order_products.head()\r\n"
   ],
   "outputs": [
    {
     "output_type": "execute_result",
     "data": {
      "text/plain": [
       "   order_id  product_id  add_to_cart_order  reordered\n",
       "0   1696715       34969                 11          0\n",
       "1   2077308       16641                 16          0\n",
       "2    303457       46881                  6          0\n",
       "3    514151       31766                  9          0\n",
       "4   2099209        7908                 10          1"
      ],
      "text/html": [
       "<div>\n",
       "<style scoped>\n",
       "    .dataframe tbody tr th:only-of-type {\n",
       "        vertical-align: middle;\n",
       "    }\n",
       "\n",
       "    .dataframe tbody tr th {\n",
       "        vertical-align: top;\n",
       "    }\n",
       "\n",
       "    .dataframe thead th {\n",
       "        text-align: right;\n",
       "    }\n",
       "</style>\n",
       "<table border=\"1\" class=\"dataframe\">\n",
       "  <thead>\n",
       "    <tr style=\"text-align: right;\">\n",
       "      <th></th>\n",
       "      <th>order_id</th>\n",
       "      <th>product_id</th>\n",
       "      <th>add_to_cart_order</th>\n",
       "      <th>reordered</th>\n",
       "    </tr>\n",
       "  </thead>\n",
       "  <tbody>\n",
       "    <tr>\n",
       "      <th>0</th>\n",
       "      <td>1696715</td>\n",
       "      <td>34969</td>\n",
       "      <td>11</td>\n",
       "      <td>0</td>\n",
       "    </tr>\n",
       "    <tr>\n",
       "      <th>1</th>\n",
       "      <td>2077308</td>\n",
       "      <td>16641</td>\n",
       "      <td>16</td>\n",
       "      <td>0</td>\n",
       "    </tr>\n",
       "    <tr>\n",
       "      <th>2</th>\n",
       "      <td>303457</td>\n",
       "      <td>46881</td>\n",
       "      <td>6</td>\n",
       "      <td>0</td>\n",
       "    </tr>\n",
       "    <tr>\n",
       "      <th>3</th>\n",
       "      <td>514151</td>\n",
       "      <td>31766</td>\n",
       "      <td>9</td>\n",
       "      <td>0</td>\n",
       "    </tr>\n",
       "    <tr>\n",
       "      <th>4</th>\n",
       "      <td>2099209</td>\n",
       "      <td>7908</td>\n",
       "      <td>10</td>\n",
       "      <td>1</td>\n",
       "    </tr>\n",
       "  </tbody>\n",
       "</table>\n",
       "</div>"
      ]
     },
     "metadata": {},
     "execution_count": 309
    }
   ],
   "metadata": {
    "deletable": false,
    "nbgrader": {
     "cell_type": "code",
     "checksum": "0e2a4229faf4b498e687f1c24477d172",
     "grade": false,
     "grade_id": "cell-0f442142d6bc8c39",
     "locked": false,
     "schema_version": 3,
     "solution": true,
     "task": false
    }
   }
  },
  {
   "cell_type": "code",
   "execution_count": 310,
   "source": [
    "# Task 2 - Test\r\n",
    "\r\n",
    "assert isinstance(order_products, pd.DataFrame), 'Have you created a DataFrame named `order_products`?'\r\n",
    "assert len(order_products) == 50000\r\n"
   ],
   "outputs": [],
   "metadata": {
    "deletable": false,
    "editable": false,
    "nbgrader": {
     "cell_type": "code",
     "checksum": "f90e3884b129f04c1f9f5ff1402ba9eb",
     "grade": true,
     "grade_id": "cell-3637e4ba19b79349",
     "locked": true,
     "points": 1,
     "schema_version": 3,
     "solution": false,
     "task": false
    }
   }
  },
  {
   "cell_type": "markdown",
   "source": [
    "**Task 3** - Top five (5) products\r\n",
    "\r\n",
    "We're going to create a list of the top five products - we've already determined what the top five are so now it's your turn to put these items in a list.\r\n",
    "\r\n",
    "* Create a list called `five_products` with the following items: \"Bag of Organic Bananas\", \"Organic Baby Spinach\", \"Organic Avocado\", \"Large Lemon\", \"Limes\"\r\n",
    "\r\n",
    "*Note: Make sure to create the list with exact spelling as shown above!*"
   ],
   "metadata": {}
  },
  {
   "cell_type": "code",
   "execution_count": 311,
   "source": [
    "# Task 3\r\n",
    "\r\n",
    "# Top 5 products: five_products\r\n",
    "\r\n",
    "# YOUR CODE HERE\r\n",
    "five_products = [\"Bag of Organic Bananas\", \"Organic Baby Spinach\",\r\n",
    "                 \"Organic Avocado\", \"Large Lemon\", \"Limes\"]\r\n"
   ],
   "outputs": [],
   "metadata": {
    "deletable": false,
    "nbgrader": {
     "cell_type": "code",
     "checksum": "a74a9f3e51ccd3e67edee7c3ba313176",
     "grade": false,
     "grade_id": "cell-ad8e4664b33be149",
     "locked": false,
     "schema_version": 3,
     "solution": true,
     "task": false
    }
   }
  },
  {
   "cell_type": "code",
   "execution_count": 312,
   "source": [
    "# Task 3 - Test\r\n",
    "\r\n",
    "assert isinstance(five_products, list), 'Have you created the five_products list?'\r\n",
    "assert len(five_products) == 5, \"Make sure you created the list correctly\"\r\n",
    "\r\n",
    "# No hidden tests for this task"
   ],
   "outputs": [],
   "metadata": {
    "deletable": false,
    "editable": false,
    "nbgrader": {
     "cell_type": "code",
     "checksum": "478aa2cdb0f03f5201d8745472e07641",
     "grade": true,
     "grade_id": "cell-0e8a931d7088b469",
     "locked": true,
     "points": 1,
     "schema_version": 3,
     "solution": false,
     "task": false
    }
   }
  },
  {
   "cell_type": "markdown",
   "source": [
    "**Task 4** - DataFrame subset using merge\r\n",
    "\r\n",
    "Create a subset of the `product_names` dataset that includes just the top **five** most ordered products. The `five_products` list has been converted to a DataFrame with the name `five`. Your task is to merge these DataFrames.\r\n",
    "\r\n",
    "* Merge `product_names` and `five` so the resulting DataFrame only includes the 5 most ordered products.  Name that DataFrame `top_products`."
   ],
   "metadata": {}
  },
  {
   "cell_type": "code",
   "execution_count": 313,
   "source": [
    "# Task 4\r\n",
    "\r\n",
    "# Convert five_products to a DataFrame called five\r\n",
    "five = pd.DataFrame(five_products, columns =['product_name']) \r\n",
    "top_products = five.merge(product_names)\r\n",
    "# Create a subset of product_names with only the top 5 products.  \r\n",
    "# Use your merge statement to include only the top 5 products\r\n",
    "# YOUR CODE HERE\r\n",
    "# Print your DataFrame to view the merge results\r\n",
    "top_products.head()\r\n"
   ],
   "outputs": [
    {
     "output_type": "execute_result",
     "data": {
      "text/plain": [
       "             product_name  product_id  aisle_id  department_id\n",
       "0  Bag of Organic Bananas       13176        24              4\n",
       "1    Organic Baby Spinach       21903       123              4\n",
       "2         Organic Avocado       47766        24              4\n",
       "3             Large Lemon       47626        24              4\n",
       "4                   Limes       26209        24              4"
      ],
      "text/html": [
       "<div>\n",
       "<style scoped>\n",
       "    .dataframe tbody tr th:only-of-type {\n",
       "        vertical-align: middle;\n",
       "    }\n",
       "\n",
       "    .dataframe tbody tr th {\n",
       "        vertical-align: top;\n",
       "    }\n",
       "\n",
       "    .dataframe thead th {\n",
       "        text-align: right;\n",
       "    }\n",
       "</style>\n",
       "<table border=\"1\" class=\"dataframe\">\n",
       "  <thead>\n",
       "    <tr style=\"text-align: right;\">\n",
       "      <th></th>\n",
       "      <th>product_name</th>\n",
       "      <th>product_id</th>\n",
       "      <th>aisle_id</th>\n",
       "      <th>department_id</th>\n",
       "    </tr>\n",
       "  </thead>\n",
       "  <tbody>\n",
       "    <tr>\n",
       "      <th>0</th>\n",
       "      <td>Bag of Organic Bananas</td>\n",
       "      <td>13176</td>\n",
       "      <td>24</td>\n",
       "      <td>4</td>\n",
       "    </tr>\n",
       "    <tr>\n",
       "      <th>1</th>\n",
       "      <td>Organic Baby Spinach</td>\n",
       "      <td>21903</td>\n",
       "      <td>123</td>\n",
       "      <td>4</td>\n",
       "    </tr>\n",
       "    <tr>\n",
       "      <th>2</th>\n",
       "      <td>Organic Avocado</td>\n",
       "      <td>47766</td>\n",
       "      <td>24</td>\n",
       "      <td>4</td>\n",
       "    </tr>\n",
       "    <tr>\n",
       "      <th>3</th>\n",
       "      <td>Large Lemon</td>\n",
       "      <td>47626</td>\n",
       "      <td>24</td>\n",
       "      <td>4</td>\n",
       "    </tr>\n",
       "    <tr>\n",
       "      <th>4</th>\n",
       "      <td>Limes</td>\n",
       "      <td>26209</td>\n",
       "      <td>24</td>\n",
       "      <td>4</td>\n",
       "    </tr>\n",
       "  </tbody>\n",
       "</table>\n",
       "</div>"
      ]
     },
     "metadata": {},
     "execution_count": 313
    }
   ],
   "metadata": {
    "deletable": false,
    "nbgrader": {
     "cell_type": "code",
     "checksum": "551c13f284fb68df646af13907dd84e4",
     "grade": false,
     "grade_id": "cell-7818f18ec6921fb0",
     "locked": false,
     "schema_version": 3,
     "solution": true,
     "task": false
    }
   }
  },
  {
   "cell_type": "code",
   "execution_count": 314,
   "source": [
    "# Task 4 - Test\r\n",
    "assert isinstance(top_products, pd.DataFrame), 'Have you created a DataFrame named `top_products`?'\r\n"
   ],
   "outputs": [],
   "metadata": {
    "deletable": false,
    "editable": false,
    "nbgrader": {
     "cell_type": "code",
     "checksum": "9769c64dd865fbdbc362cbcc974844fd",
     "grade": true,
     "grade_id": "cell-e329e3cdc129ba49",
     "locked": true,
     "points": 1,
     "schema_version": 3,
     "solution": false,
     "task": false
    }
   }
  },
  {
   "cell_type": "markdown",
   "source": [
    "**Task 5** - More DataFrame merging\r\n",
    "\r\n",
    "Now we're going to merge the first DataFrame we created (`order_products`) with the one we just made above (`top_products`). This will result in a DataFrame with only the top five most ordered products.\r\n",
    "\r\n",
    "* Merge `order_products` and `top_products` and name the resulting DataFrame `final`.\r\n",
    "* Print the top 20 rows of `final` to view your result."
   ],
   "metadata": {}
  },
  {
   "cell_type": "code",
   "execution_count": 315,
   "source": [
    "# Task 5\r\n",
    "\r\n",
    "# Merge order_products and top_products \r\n",
    "\r\n",
    "# YOUR CODE HERE\r\n",
    "final = top_products.merge(order_products)\r\n",
    "# Print your final DataFrame\r\n",
    "final.head(20)\r\n",
    "final.shape\r\n"
   ],
   "outputs": [
    {
     "output_type": "execute_result",
     "data": {
      "text/plain": [
       "(1670, 7)"
      ]
     },
     "metadata": {},
     "execution_count": 315
    }
   ],
   "metadata": {
    "deletable": false,
    "nbgrader": {
     "cell_type": "code",
     "checksum": "4b31e9ae3b32f4b50b9babe55c54d78a",
     "grade": false,
     "grade_id": "cell-977f302dd89af1df",
     "locked": false,
     "schema_version": 3,
     "solution": true,
     "task": false
    }
   }
  },
  {
   "cell_type": "code",
   "execution_count": 316,
   "source": [
    "# Task 5 - Test\r\n",
    "\r\n",
    "assert isinstance(final, pd.DataFrame), 'Have you created a DataFrame named `final`?'\r\n"
   ],
   "outputs": [],
   "metadata": {
    "deletable": false,
    "editable": false,
    "nbgrader": {
     "cell_type": "code",
     "checksum": "8c351ac1f8aa2048ca5465393f9f00b0",
     "grade": true,
     "grade_id": "cell-0c48a0352b6596f5",
     "locked": true,
     "points": 1,
     "schema_version": 3,
     "solution": false,
     "task": false
    }
   }
  },
  {
   "cell_type": "markdown",
   "source": [
    "**Task 6** - Top five products - value counts\n",
    "\n",
    "Note that every record in `final` is a single instance in which someone ordered one of the top five products.  Your task is to calcluate the number of times each product was ordered.\n",
    "\n",
    "* Calculate the **number of times** each product was ordered using `value_counts()`. Name the result `food_frequency`.\n",
    "* Assign the most frequently ordered food to the variable `top_item` (your variable should be a string; make sure to use the exact formatting returned above)."
   ],
   "metadata": {}
  },
  {
   "cell_type": "code",
   "execution_count": 317,
   "source": [
    "# Task 6\r\n",
    "\r\n",
    "# Determine the number of times each product was ordered\r\n",
    "\r\n",
    "# YOUR CODE HERE\r\n",
    "food_frequency = final['product_name'].value_counts()\r\n",
    "# View your results\r\n",
    "top_item = food_frequency.max()\r\n",
    "food_frequency.shape\r\n"
   ],
   "outputs": [
    {
     "output_type": "execute_result",
     "data": {
      "text/plain": [
       "(5,)"
      ]
     },
     "metadata": {},
     "execution_count": 317
    }
   ],
   "metadata": {
    "deletable": false,
    "nbgrader": {
     "cell_type": "code",
     "checksum": "8f29e56a39d33ba9ee78531bbebda218",
     "grade": false,
     "grade_id": "cell-9a3735ded06b8419",
     "locked": false,
     "schema_version": 3,
     "solution": true,
     "task": false
    }
   }
  },
  {
   "cell_type": "code",
   "execution_count": 318,
   "source": [
    "# Task 6 - Test\r\n",
    "assert food_frequency.shape == (5,), 'Check to make sure you merged correctly'\r\n"
   ],
   "outputs": [],
   "metadata": {
    "deletable": false,
    "editable": false,
    "nbgrader": {
     "cell_type": "code",
     "checksum": "1cb6f43a74e4166ee50b1e07c085a8ec",
     "grade": true,
     "grade_id": "cell-e7858bb55bf086fb",
     "locked": true,
     "points": 1,
     "schema_version": 3,
     "solution": false,
     "task": false
    }
   }
  },
  {
   "cell_type": "markdown",
   "source": [
    "**Task 7** - Using `groupby()` and `mean()`\n",
    "\n",
    "In this next step, we're going to import one last CSV file and look at the time of day an order was made. Some of the code has been provided for you - your task is to complete the merging and look at the mean time of the top five orders.\n",
    "\n",
    "**Completed for you**\n",
    "* Imported `orders_sm.csv` as the DataFrame `orders`.\n",
    "* Merged `orders` and `final` into a DataFrame called `final_times` that only includes the top five foods.\n",
    "\n",
    "**Your tasks**\n",
    "* Use the `groupby()` and `mean()` functions to calculate the mean time each product was ordered (`order_hour_of_day`).\n",
    "* Name the results of your calculation `mean_hours`."
   ],
   "metadata": {}
  },
  {
   "cell_type": "code",
   "execution_count": 334,
   "source": [
    "# Task 7\r\n",
    "\r\n",
    "# COMPLETED FOR YOU\r\n",
    "# Import orders.csv and name the DataFrame orders\r\n",
    "data_url4 = 'https://raw.githubusercontent.com/LambdaSchool/data-science-practice-datasets/main/unit_1/Instacart_small/orders_sm.csv'\r\n",
    "orders = pd.read_csv(data_url4)\r\n",
    "# Merge orders and final into the DataFrame final_time\r\n",
    "final_time = final.merge(orders)\r\n",
    "\r\n",
    "# Use groupby() and mean() to calculate the mean time each product was ordered\r\n",
    "\r\n",
    "# YOUR CODE HERE\r\n",
    "mean_hours = final_time.groupby('product_name')['order_hour_of_day'].mean()\r\n",
    "# View your results\r\n",
    "mean_hours.head()"
   ],
   "outputs": [
    {
     "output_type": "execute_result",
     "data": {
      "text/plain": [
       "product_name\n",
       "Bag of Organic Bananas    13.200000\n",
       "Large Lemon               16.000000\n",
       "Limes                     10.333333\n",
       "Organic Avocado           17.500000\n",
       "Organic Baby Spinach      14.500000\n",
       "Name: order_hour_of_day, dtype: float64"
      ]
     },
     "metadata": {},
     "execution_count": 334
    }
   ],
   "metadata": {
    "deletable": false,
    "nbgrader": {
     "cell_type": "code",
     "checksum": "70e21fb1271f65913ca3df374375949e",
     "grade": false,
     "grade_id": "cell-8932129638b4d019",
     "locked": false,
     "schema_version": 3,
     "solution": true,
     "task": false
    }
   }
  },
  {
   "cell_type": "code",
   "execution_count": 335,
   "source": [
    "# Task 7 - Test\r\n",
    "assert mean_hours.shape == (5,), 'Check to make sure you merged correctly'\r\n"
   ],
   "outputs": [],
   "metadata": {
    "deletable": false,
    "editable": false,
    "nbgrader": {
     "cell_type": "code",
     "checksum": "aa171a08346bc03c81694b5514f1ab2a",
     "grade": true,
     "grade_id": "cell-22190fff81957bb7",
     "locked": true,
     "points": 1,
     "schema_version": 3,
     "solution": false,
     "task": false
    }
   }
  },
  {
   "cell_type": "markdown",
   "source": [
    "**Task 8** - Mean order time\n",
    "\n",
    "Using the results from above, determine the mean order time for two of the top five items: \"Limes\" and \"Organic Baby Spinach\"\n",
    "\n",
    "* Find the mean order time for \"Limes\" and assign it to the variable `time_limes`. Your answer should be a float defined to one decimal place.\n",
    "* Find the mean order time for \"Organic Baby Spinach\" and assign it to the variable `time_spinach`. You answer should be a float defined to one decimal place."
   ],
   "metadata": {}
  },
  {
   "cell_type": "code",
   "execution_count": 336,
   "source": [
    "# Task 8\r\n",
    "# YOUR CODE HERE\r\n",
    "time_limes = mean_hours.Limes\r\n",
    "time_spinach = mean_hours.Limes\r\n"
   ],
   "outputs": [
    {
     "output_type": "execute_result",
     "data": {
      "text/plain": [
       "10.333333333333334"
      ]
     },
     "metadata": {},
     "execution_count": 336
    }
   ],
   "metadata": {
    "deletable": false,
    "nbgrader": {
     "cell_type": "code",
     "checksum": "710e71f05c3f22a2dda049a7f398d590",
     "grade": false,
     "grade_id": "cell-b160e1511b2388db",
     "locked": false,
     "schema_version": 3,
     "solution": true,
     "task": false
    }
   }
  },
  {
   "cell_type": "markdown",
   "source": [
    "**Task 8 Test**"
   ],
   "metadata": {}
  },
  {
   "cell_type": "code",
   "execution_count": null,
   "source": [
    "# Task 8 - Test\r\n"
   ],
   "outputs": [],
   "metadata": {
    "deletable": false,
    "editable": false,
    "nbgrader": {
     "cell_type": "code",
     "checksum": "03f2008f561ced4f894cd38f52633ab2",
     "grade": true,
     "grade_id": "cell-c138ab110b2bcf90",
     "locked": true,
     "points": 1,
     "schema_version": 3,
     "solution": false,
     "task": false
    }
   }
  }
 ],
 "metadata": {
  "kernelspec": {
   "name": "python3",
   "display_name": "Python 3.9.6 64-bit"
  },
  "language_info": {
   "codemirror_mode": {
    "name": "ipython",
    "version": 3
   },
   "file_extension": ".py",
   "mimetype": "text/x-python",
   "name": "python",
   "nbconvert_exporter": "python",
   "pygments_lexer": "ipython3",
   "version": "3.9.6"
  },
  "interpreter": {
   "hash": "4b7a67c094ca4859574ab7812cb20959fc8d8ba5f9f349a7149ef35bab6b6336"
  }
 },
 "nbformat": 4,
 "nbformat_minor": 4
}